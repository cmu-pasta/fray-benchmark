{
 "cells": [
  {
   "cell_type": "code",
   "execution_count": 2,
   "metadata": {},
   "outputs": [
    {
     "data": {
      "image/png": "[encoded data removed]",
      "text/plain": [
       "<Figure size 700x100 with 1 Axes>"
      ]
     },
     "metadata": {},
     "output_type": "display_data"
    }
   ],
   "source": [
    "%load_ext autoreload\n",
    "%autoreload 2\n",
    "from fray_benchmark.visualizer.bench_result import *"
   ]
  },
  {
   "cell_type": "code",
   "execution_count": 3,
   "metadata": {},
   "outputs": [
    {
     "name": "stdout",
     "output_type": "stream",
     "text": [
      "/home/aoli/repos/fray-benchmark/output/bug-1/guava/pos/iter-0/1001/report/fray.log\n",
      "2024-11-10 23:21:33 [INFO]: Fray started.\n",
      "2024-11-10 23:21:35 [INFO]: Error found at iter: 0, step: 7976, Elapsed time: 1935ms\n",
      "2024-11-10 23:21:35 [INFO]: Error: java.lang.RuntimeException: testHeader: waitForUninterruptibly(nonfair)(10ms)/UnsatisfiedBeforeAndWhileWaiting->Failure(com.google.common.util.concurrent.GeneratedMonitorTest)\n",
      "trace: junit.framework.AssertionFailedError: expected:<Failure> but was:<Hang>\n",
      "\tat junit.framework.Assert.fail(Assert.java:57)\n",
      "\tat junit.framework.Assert.failNotEquals(Assert.java:329)\n",
      "\tat junit.framework.Assert.assertEquals(Assert.java:78)\n",
      "\tat junit.framework.Assert.assertEquals(Assert.java:86)\n",
      "\tat junit.framework.TestCase.assertEquals(TestCase.java:246)\n",
      "\tat com.google.common.util.concurrent.GeneratedMonitorTest.runTest(GeneratedMonitorTest.java:518)\n",
      "\tat junit.framework.TestCase.runBare(TestCase.java:142)\n",
      "\tat junit.framework.TestResult$1.protect(TestResult.java:122)\n",
      "\tat junit.framework.TestResult.runProtected(TestResult.java:142)\n",
      "\tat junit.framework.TestResult.run(TestResult.java:125)\n",
      "\tat junit.framework.TestCase.run(TestCase.java:130)\n",
      "\tat junit.framework.TestSuite.runTest(TestSuite.java:241)\n",
      "\tat junit.framework.TestSuite.run(TestSuite.java:236)\n",
      "\tat org.junit.internal.runners.JUnit38ClassRunner.run(JUnit38ClassRunner.java:90)\n",
      "\tat org.junit.runner.JUnitCore.run(JUnitCore.java:137)\n",
      "\tat org.junit.runner.JUnitCore.run(JUnitCore.java:115)\n",
      "\tat org.pastalab.fray.helpers.JUnitRunner.main(JUnitRunner.java:72)\n",
      "\tat java.base/jdk.internal.reflect.DirectMethodHandleAccessor.invoke(DirectMethodHandleAccessor.java:103)\n",
      "\tat java.base/java.lang.reflect.Method.invoke(Method.java:580)\n",
      "\tat org.pastalab.fray.core.command.MethodExecutor.execute(Executor.kt:53)\n",
      "\tat org.pastalab.fray.core.TestRunner.run(TestRunner.kt:76)\n",
      "\tat org.pastalab.fray.core.MainKt.main(Main.kt:9)\n",
      "\n",
      "description: waitForUninterruptibly(nonfair)(10ms)/UnsatisfiedBeforeAndWhileWaiting->Failure(com.google.common.util.concurrent.GeneratedMonitorTest)\n",
      "\n",
      "java.lang.RuntimeException: testHeader: waitForUninterruptibly(nonfair)(10ms)/UnsatisfiedBeforeAndWhileWaiting->Failure(com.google.common.util.concurrent.GeneratedMonitorTest)\n",
      "trace: junit.framework.AssertionFailedError: expected:<Failure> but was:<Hang>\n",
      "\tat junit.framework.Assert.fail(Assert.java:57)\n",
      "\tat junit.framework.Assert.failNotEquals(Assert.java:329)\n",
      "\tat junit.framework.Assert.assertEquals(Assert.java:78)\n",
      "\tat junit.framework.Assert.assertEquals(Assert.java:86)\n",
      "\tat junit.framework.TestCase.assertEquals(TestCase.java:246)\n",
      "\tat com.google.common.util.concurrent.GeneratedMonitorTest.runTest(GeneratedMonitorTest.java:518)\n",
      "\tat junit.framework.TestCase.runBare(TestCase.java:142)\n",
      "\tat junit.framework.TestResult$1.protect(TestResult.java:122)\n",
      "\tat junit.framework.TestResult.runProtected(TestResult.java:142)\n",
      "\tat junit.framework.TestResult.run(TestResult.java:125)\n",
      "\tat junit.framework.TestCase.run(TestCase.java:130)\n",
      "\tat junit.framework.TestSuite.runTest(TestSuite.java:241)\n",
      "\tat junit.framework.TestSuite.run(TestSuite.java:236)\n",
      "\tat org.junit.internal.runners.JUnit38ClassRunner.run(JUnit38ClassRunner.java:90)\n",
      "\tat org.junit.runner.JUnitCore.run(JUnitCore.java:137)\n",
      "\tat org.junit.runner.JUnitCore.run(JUnitCore.java:115)\n",
      "\tat org.pastalab.fray.helpers.JUnitRunner.main(JUnitRunner.java:72)\n",
      "\tat java.base/jdk.internal.reflect.DirectMethodHandleAccessor.invoke(DirectMethodHandleAccessor.java:103)\n",
      "\tat java.base/java.lang.reflect.Method.invoke(Method.java:580)\n",
      "\tat org.pastalab.fray.core.command.MethodExecutor.execute(Executor.kt:53)\n",
      "\tat org.pastalab.fray.core.TestRunner.run(TestRunner.kt:76)\n",
      "\tat org.pastalab.fray.core.MainKt.main(Main.kt:9)\n",
      "\n",
      "description: waitForUninterruptibly(nonfair)(10ms)/UnsatisfiedBeforeAndWhileWaiting->Failure(com.google.common.util.concurrent.GeneratedMonitorTest)\n",
      "\n",
      "\tat org.pastalab.fray.helpers.JUnitRunner.main(JUnitRunner.java:84)\n",
      "\tat java.base/jdk.internal.reflect.DirectMethodHandleAccessor.invoke(DirectMethodHandleAccessor.java:103)\n",
      "\tat java.base/java.lang.reflect.Method.invoke(Method.java:580)\n",
      "\tat org.pastalab.fray.core.command.MethodExecutor.execute(Executor.kt:53)\n",
      "\tat org.pastalab.fray.core.TestRunner.run(TestRunner.kt:76)\n",
      "\tat org.pastalab.fray.core.MainKt.main(Main.kt:9)\n",
      "\n",
      "2024-11-10 23:21:35 [INFO]: The recording is saved to /home/aoli/repos/fray-benchmark/fray_benchmark/../output/bug-1/guava/pos/iter-0/1001/report/recording_0/\n",
      "\n"
     ]
    }
   ],
   "source": [
    "suite = BenchmarkSuite([\n",
    "    \"/home/aoli/repos/fray-benchmark/output/bug-1/guava\",\n",
    "    ])\n",
    "for benchmark in suite.benchmarks:\n",
    "    if \"/pos/\" in benchmark.path:\n",
    "        df = benchmark.load_csv()\n",
    "        for index, row in df.iterrows():\n",
    "            if row[\"type\"] == \"TP(Time)\":\n",
    "                id = row[\"id\"].split(\"-\")[1]\n",
    "                report_path = os.path.join(benchmark.path, id, \"report/fray.log\")\n",
    "                with open(report_path, \"r\") as f:\n",
    "                    report = f.read()\n",
    "                    # if \"but was:<Hang>\" in report:\n",
    "                    #     continue\n",
    "                    print(report_path)\n",
    "                    print(report)\n",
    "                    break"
   ]
  },
  {
   "cell_type": "code",
   "execution_count": 22,
   "metadata": {},
   "outputs": [],
   "source": [
    "suite = BenchmarkSuite([\n",
    "    \"/home/aoli/repos/fray-benchmark/output/bug-1/kafka\",\n",
    "    ])\n",
    "for benchmark in suite.benchmarks:\n",
    "    if \"/pos/\" in benchmark.path:\n",
    "        df = benchmark.load_csv()\n",
    "        for index, row in df.iterrows():\n",
    "            if row[\"type\"] == \"TP(Time)\":\n",
    "                id = row[\"id\"].split(\"-\")[1]\n",
    "                report_path = os.path.join(benchmark.path, id, \"report/fray.log\")\n",
    "                with open(report_path, \"r\") as f:\n",
    "                    report = f.read()\n",
    "                    # if \"verifyExceptionsAndFailedTasks\" in report:\n",
    "                    #     continue\n",
    "                    # if \"verifyUpdatingTasks\" in report:\n",
    "                    #     continue\n",
    "                    # if \"verifyPausedTasks\" in report:\n",
    "                    #     continue\n",
    "                    # if \"DefaultStateUpdaterTest.verify\" in report:\n",
    "                    #     continue\n",
    "                    if \"TestUtils.waitForCondition\" in report:\n",
    "                        continue\n",
    "                    # if \"Condition not met within timeout \" in report:\n",
    "                    #     continue\n",
    "                    # if \"Assertion failed with an exception after\" in report:\n",
    "                    #     continue\n",
    "                    print(report_path)\n",
    "                    print(report)\n",
    "                    break\n"
   ]
  },
  {
   "cell_type": "code",
   "execution_count": 26,
   "metadata": {},
   "outputs": [],
   "source": [
    "suite = BenchmarkSuite([\n",
    "    \"/home/aoli/repos/fray-benchmark/output/bug-1/lucene\",\n",
    "    ])\n",
    "for benchmark in suite.benchmarks:\n",
    "    if \"/pos/\" in benchmark.path:\n",
    "        df = benchmark.load_csv()\n",
    "        for index, row in df.iterrows():\n",
    "            if row[\"type\"] == \"TP(Time)\":\n",
    "                id = row[\"id\"].split(\"-\")[1]\n",
    "                report_path = os.path.join(benchmark.path, id, \"report/fray.log\")\n",
    "                with open(report_path, \"r\") as f:\n",
    "                    report = f.read()\n",
    "                    if \"TestTimeLimitingBulkScorer.testTimeLimitingBulkScorer\" in report:\n",
    "                        continue\n",
    "                    if \"testTimeoutLargeNumberOfMerges\" in report:\n",
    "                        continue\n",
    "                    if \"testIntraMergeThreadPoolIsLimitedByMaxThreads\" in report:\n",
    "                        continue\n",
    "                    print(report_path)\n",
    "                    print(report)\n",
    "                    break\n"
   ]
  },
  {
   "cell_type": "code",
   "execution_count": null,
   "metadata": {},
   "outputs": [],
   "source": []
  }
 ],
 "metadata": {
  "kernelspec": {
   "display_name": "fray-benchmark-X7lD6j10-py3.12",
   "language": "python",
   "name": "python3"
  },
  "language_info": {
   "codemirror_mode": {
    "name": "ipython",
    "version": 3
   },
   "file_extension": ".py",
   "mimetype": "text/x-python",
   "name": "python",
   "nbconvert_exporter": "python",
   "pygments_lexer": "ipython3",
   "version": "3.12.3"
  }
 },
 "nbformat": 4,
 "nbformat_minor": 2
}
