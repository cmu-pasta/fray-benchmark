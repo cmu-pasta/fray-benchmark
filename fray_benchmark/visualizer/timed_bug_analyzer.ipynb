{
 "cells": [
  {
   "cell_type": "code",
   "execution_count": 1,
   "metadata": {},
   "outputs": [
    {
     "name": "stderr",
     "output_type": "stream",
     "text": [
      "/home/aoli/repos/fray-benchmark/fray_benchmark/visualizer/bench_result.py:425: SyntaxWarning: invalid escape sequence '\\#'\n",
      "  ax.set_ylabel('Cumulative \\# of Bugs')\n"
     ]
    },
    {
     "data": {
      "image/png": "[encoded data removed]",
      "text/plain": [
       "<Figure size 700x100 with 1 Axes>"
      ]
     },
     "metadata": {},
     "output_type": "display_data"
    }
   ],
   "source": [
    "# %load_ext autoreload\n",
    "# %autoreload 2\n",
    "from fray_benchmark.visualizer.bench_result import *"
   ]
  },
  {
   "cell_type": "code",
   "execution_count": 4,
   "metadata": {},
   "outputs": [
    {
     "ename": "FileNotFoundError",
     "evalue": "[Errno 2] No such file or directory: '/home/aoli/repos/fray-benchmark/output/bug-1/kafka-new/random/iter-0/1000/report/fray.log'",
     "output_type": "error",
     "traceback": [
      "\u001b[0;31m---------------------------------------------------------------------------\u001b[0m",
      "\u001b[0;31mFileNotFoundError\u001b[0m                         Traceback (most recent call last)",
      "Cell \u001b[0;32mIn[4], line 6\u001b[0m\n\u001b[1;32m      4\u001b[0m \u001b[38;5;28;01mfor\u001b[39;00m benchmark \u001b[38;5;129;01min\u001b[39;00m suite\u001b[38;5;241m.\u001b[39mbenchmarks:\n\u001b[1;32m      5\u001b[0m     \u001b[38;5;28;01mif\u001b[39;00m \u001b[38;5;124m\"\u001b[39m\u001b[38;5;124m/random/\u001b[39m\u001b[38;5;124m\"\u001b[39m \u001b[38;5;129;01min\u001b[39;00m benchmark\u001b[38;5;241m.\u001b[39mpath:\n\u001b[0;32m----> 6\u001b[0m         df \u001b[38;5;241m=\u001b[39m \u001b[43mbenchmark\u001b[49m\u001b[38;5;241;43m.\u001b[39;49m\u001b[43mto_csv\u001b[49m\u001b[43m(\u001b[49m\u001b[43m)\u001b[49m\n\u001b[1;32m      7\u001b[0m         df \u001b[38;5;241m=\u001b[39m benchmark\u001b[38;5;241m.\u001b[39mload_csv()\n\u001b[1;32m      8\u001b[0m         \u001b[38;5;28;01mfor\u001b[39;00m index, row \u001b[38;5;129;01min\u001b[39;00m df\u001b[38;5;241m.\u001b[39miterrows():\n",
      "File \u001b[0;32m~/repos/fray-benchmark/fray_benchmark/visualizer/bench_result.py:134\u001b[0m, in \u001b[0;36mBenchResult.to_csv\u001b[0;34m(self)\u001b[0m\n\u001b[1;32m    131\u001b[0m     stdout \u001b[38;5;241m=\u001b[39m \u001b[38;5;28mopen\u001b[39m(os\u001b[38;5;241m.\u001b[39mpath\u001b[38;5;241m.\u001b[39mjoin(\n\u001b[1;32m    132\u001b[0m         run_folder, \u001b[38;5;124m\"\u001b[39m\u001b[38;5;124mstdout.txt\u001b[39m\u001b[38;5;124m\"\u001b[39m))\u001b[38;5;241m.\u001b[39mread()\n\u001b[1;32m    133\u001b[0m \u001b[38;5;28;01melse\u001b[39;00m:\n\u001b[0;32m--> 134\u001b[0m     stdout \u001b[38;5;241m=\u001b[39m \u001b[38;5;28;43mopen\u001b[39;49m\u001b[43m(\u001b[49m\u001b[43mos\u001b[49m\u001b[38;5;241;43m.\u001b[39;49m\u001b[43mpath\u001b[49m\u001b[38;5;241;43m.\u001b[39;49m\u001b[43mjoin\u001b[49m\u001b[43m(\u001b[49m\u001b[43mrun_folder\u001b[49m\u001b[43m,\u001b[49m\u001b[43m \u001b[49m\u001b[38;5;124;43m\"\u001b[39;49m\u001b[38;5;124;43mreport\u001b[39;49m\u001b[38;5;124;43m\"\u001b[39;49m\u001b[43m,\u001b[49m\u001b[43m \u001b[49m\u001b[38;5;124;43m\"\u001b[39;49m\u001b[38;5;124;43mfray.log\u001b[39;49m\u001b[38;5;124;43m\"\u001b[39;49m\u001b[43m)\u001b[49m\u001b[43m)\u001b[49m\u001b[38;5;241m.\u001b[39mread()\n\u001b[1;32m    135\u001b[0m total_iteration \u001b[38;5;241m=\u001b[39m \u001b[38;5;241m-\u001b[39m\u001b[38;5;241m1\u001b[39m\n\u001b[1;32m    136\u001b[0m first_bug_iter \u001b[38;5;241m=\u001b[39m \u001b[38;5;241m-\u001b[39m\u001b[38;5;241m1\u001b[39m\n",
      "\u001b[0;31mFileNotFoundError\u001b[0m: [Errno 2] No such file or directory: '/home/aoli/repos/fray-benchmark/output/bug-1/kafka-new/random/iter-0/1000/report/fray.log'"
     ]
    }
   ],
   "source": [
    "suite = BenchmarkSuite([\n",
    "    \"/home/aoli/repos/fray-benchmark/output/bug-1/kafka-new\",\n",
    "    ])\n",
    "for benchmark in suite.benchmarks:\n",
    "    if \"/random/\" in benchmark.path:\n",
    "        df = benchmark.to_csv()\n",
    "        df = benchmark.load_csv()\n",
    "        for index, row in df.iterrows():\n",
    "            if row[\"type\"] == \"TP(Time)\":\n",
    "                id = row[\"id\"].split(\"-\")[1]\n",
    "                report_path = os.path.join(benchmark.path, id, \"report/fray.log\")\n",
    "                with open(report_path, \"r\") as f:\n",
    "                    report = f.read()\n",
    "                    if \"but was:<Hang>\" in report:\n",
    "                        continue\n",
    "                    if \"assertUninterruptibleDrained\" in report:\n",
    "                        continue\n",
    "                    if \"testHeader: testDrainTimesOut\" in report:\n",
    "                        continue\n",
    "                    if \"waitForUninterruptibly(nonfair)(10ms)/UnsatisfiedBeforeAndWhileWaiting->Failure\" in report:\n",
    "                        continue\n",
    "                    if \"testDrainUninterruptibly_doesNotThrow\" in report:\n",
    "                        continue\n",
    "                    if \"testHeader: waitForUninterruptibly\" in report:\n",
    "                        continue\n",
    "                    if \"testHeader: testRegularFutureInterrupted\" in report:\n",
    "                        continue\n",
    "                    if \"testMakeUninterruptible_timeoutPreservedThroughInterruption\" in report:\n",
    "                        continue\n",
    "                    if \"ClosingFutureFinishToValueAndCloserTest\" in report:\n",
    "                        continue\n",
    "                    if \"stillOpen()\" in report:\n",
    "                        continue\n",
    "                    if \"testHeader: waitFor(fair)(+oo)/UnsatisfiedBeforeAndWhileWaiting->Hang\" in report:\n",
    "                        continue\n",
    "                    print(report_path)\n",
    "                    print(report)\n",
    "                    break"
   ]
  },
  {
   "cell_type": "code",
   "execution_count": 1,
   "metadata": {},
   "outputs": [
    {
     "ename": "NameError",
     "evalue": "name 'BenchmarkSuite' is not defined",
     "output_type": "error",
     "traceback": [
      "\u001b[0;31m---------------------------------------------------------------------------\u001b[0m",
      "\u001b[0;31mNameError\u001b[0m                                 Traceback (most recent call last)",
      "Cell \u001b[0;32mIn[1], line 1\u001b[0m\n\u001b[0;32m----> 1\u001b[0m suite \u001b[38;5;241m=\u001b[39m \u001b[43mBenchmarkSuite\u001b[49m([\n\u001b[1;32m      2\u001b[0m     \u001b[38;5;124m\"\u001b[39m\u001b[38;5;124m/home/aoli/repos/fray-benchmark/output/bug-2/lincheck\u001b[39m\u001b[38;5;124m\"\u001b[39m,\n\u001b[1;32m      3\u001b[0m     ])\n\u001b[1;32m      5\u001b[0m \u001b[38;5;28;01mfor\u001b[39;00m bench \u001b[38;5;129;01min\u001b[39;00m suite\u001b[38;5;241m.\u001b[39mbenchmarks:\n\u001b[1;32m      6\u001b[0m     \u001b[38;5;28mprint\u001b[39m(bench\u001b[38;5;241m.\u001b[39mpath)\n",
      "\u001b[0;31mNameError\u001b[0m: name 'BenchmarkSuite' is not defined"
     ]
    }
   ],
   "source": [
    "suite = BenchmarkSuite([\n",
    "    \"/home/aoli/repos/fray-benchmark/output/bug-2/lincheck\",\n",
    "    ])\n",
    "\n",
    "for bench in suite.benchmarks:\n",
    "    print(bench.path)\n",
    "    if \"/surw/\" in bench.path:\n",
    "        bench.to_csv()\n",
    "suite.generate_bug_table()\n"
   ]
  },
  {
   "cell_type": "code",
   "execution_count": 11,
   "metadata": {},
   "outputs": [],
   "source": [
    "suite = BenchmarkSuite([\n",
    "    \"/home/aoli/repos/fray-benchmark/output/bug-1/lucene\",\n",
    "    ])\n",
    "for benchmark in suite.benchmarks:\n",
    "    if \"/pos/\" in benchmark.path:\n",
    "        df = benchmark.load_csv()\n",
    "        for index, row in df.iterrows():\n",
    "            if row[\"type\"] == \"TP(Time)\":\n",
    "                id = row[\"id\"].split(\"-\")[1]\n",
    "                report_path = os.path.join(benchmark.path, id, \"report/fray.log\")\n",
    "                with open(report_path, \"r\") as f:\n",
    "                    report = f.read()\n",
    "                    if \"TestTimeLimitingBulkScorer.testTimeLimitingBulkScorer\" in report:\n",
    "                        continue\n",
    "                    if \"testTimeoutLargeNumberOfMerges\" in report:\n",
    "                        continue\n",
    "                    if \"testIntraMergeThreadPoolIsLimitedByMaxThreads\" in report:\n",
    "                        continue\n",
    "                    print(report_path)\n",
    "                    print(report)\n",
    "                    break\n"
   ]
  },
  {
   "cell_type": "code",
   "execution_count": null,
   "metadata": {},
   "outputs": [
    {
     "name": "stdout",
     "output_type": "stream",
     "text": [
      "[Errno 2] No such file or directory: '/home/aoli/repos/fray-benchmark/output/bug-1/flink/pos/iter-0/1/report/fray.log'\n"
     ]
    },
    {
     "name": "stderr",
     "output_type": "stream",
     "text": [
      "/home/aoli/repos/fray-benchmark/fray_benchmark/visualizer/bench_result.py:415: SyntaxWarning: invalid escape sequence '\\#'\n",
      "  ax.set_ylabel('Cumulative \\# of Bugs')\n"
     ]
    }
   ],
   "source": [
    "suite = BenchmarkSuite([\n",
    "    \"/home/aoli/repos/fray-benchmark/output/bug-1/flink\",\n",
    "    ])\n",
    "for benchmark in suite.benchmarks:\n",
    "    try:\n",
    "        df = benchmark.to_csv()\n",
    "    except Exception as e:\n",
    "        print(e)\n"
   ]
  }
 ],
 "metadata": {
  "kernelspec": {
   "display_name": ".venv",
   "language": "python",
   "name": "python3"
  },
  "language_info": {
   "codemirror_mode": {
    "name": "ipython",
    "version": 3
   },
   "file_extension": ".py",
   "mimetype": "text/x-python",
   "name": "python",
   "nbconvert_exporter": "python",
   "pygments_lexer": "ipython3",
   "version": "3.12.3"
  }
 },
 "nbformat": 4,
 "nbformat_minor": 2
}
