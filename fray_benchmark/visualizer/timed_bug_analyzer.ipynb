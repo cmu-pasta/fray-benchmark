{
 "cells": [
  {
   "cell_type": "code",
   "execution_count": 2,
   "metadata": {},
   "outputs": [
    {
     "data": {
      "image/png": "[encoded data removed]",
      "text/plain": [
       "<Figure size 700x100 with 1 Axes>"
      ]
     },
     "metadata": {},
     "output_type": "display_data"
    }
   ],
   "source": [
    "%load_ext autoreload\n",
    "%autoreload 2\n",
    "from fray_benchmark.visualizer.bench_result import *"
   ]
  },
  {
   "cell_type": "code",
   "execution_count": 6,
   "metadata": {},
   "outputs": [
    {
     "name": "stdout",
     "output_type": "stream",
     "text": [
      "/home/aoli/repos/fray-benchmark/output/bug-1/guava/pos/iter-0/102/report/fray.log\n",
      "2024-11-11 03:23:39 [INFO]: Fray started.\n",
      "2024-11-11 03:23:40 [INFO]: Error found at iter: 0, step: 155, Elapsed time: 1137ms\n",
      "2024-11-11 03:23:40 [INFO]: Error: java.lang.RuntimeException: testHeader: testEmpty(com.google.common.collect.QueuesTest)\n",
      "trace: expected to be at least: 10\n",
      "but was                : 0\n",
      "\tat com.google.common.collect.QueuesTest.assertUninterruptibleDrained(QueuesTest.java:291)\n",
      "\tat com.google.common.collect.QueuesTest.assertDrained(QueuesTest.java:258)\n",
      "\tat com.google.common.collect.QueuesTest.testEmpty(QueuesTest.java:176)\n",
      "\tat com.google.common.collect.QueuesTest.testEmpty(QueuesTest.java:171)\n",
      "\n",
      "description: testEmpty(com.google.common.collect.QueuesTest)\n",
      "\n",
      "java.lang.RuntimeException: testHeader: testEmpty(com.google.common.collect.QueuesTest)\n",
      "trace: expected to be at least: 10\n",
      "but was                : 0\n",
      "\tat com.google.common.collect.QueuesTest.assertUninterruptibleDrained(QueuesTest.java:291)\n",
      "\tat com.google.common.collect.QueuesTest.assertDrained(QueuesTest.java:258)\n",
      "\tat com.google.common.collect.QueuesTest.testEmpty(QueuesTest.java:176)\n",
      "\tat com.google.common.collect.QueuesTest.testEmpty(QueuesTest.java:171)\n",
      "\n",
      "description: testEmpty(com.google.common.collect.QueuesTest)\n",
      "\n",
      "\tat org.pastalab.fray.helpers.JUnitRunner.main(JUnitRunner.java:84)\n",
      "\tat java.base/jdk.internal.reflect.DirectMethodHandleAccessor.invoke(DirectMethodHandleAccessor.java:103)\n",
      "\tat java.base/java.lang.reflect.Method.invoke(Method.java:580)\n",
      "\tat org.pastalab.fray.core.command.MethodExecutor.execute(Executor.kt:53)\n",
      "\tat org.pastalab.fray.core.TestRunner.run(TestRunner.kt:76)\n",
      "\tat org.pastalab.fray.core.MainKt.main(Main.kt:9)\n",
      "\n",
      "2024-11-11 03:23:40 [INFO]: The recording is saved to /home/aoli/repos/fray-benchmark/fray_benchmark/../output/bug-1/guava/pos/iter-0/102/report/recording_0/\n",
      "\n"
     ]
    }
   ],
   "source": [
    "suite = BenchmarkSuite([\n",
    "    \"/home/aoli/repos/fray-benchmark/output/bug-1/guava\",\n",
    "    ])\n",
    "for benchmark in suite.benchmarks:\n",
    "    if \"/pos/\" in benchmark.path:\n",
    "        df = benchmark.load_csv()\n",
    "        for index, row in df.iterrows():\n",
    "            if row[\"type\"] == \"TP(Time)\":\n",
    "                id = row[\"id\"].split(\"-\")[1]\n",
    "                report_path = os.path.join(benchmark.path, id, \"report/fray.log\")\n",
    "                with open(report_path, \"r\") as f:\n",
    "                    report = f.read()\n",
    "                    if \"but was:<Hang>\" in report:\n",
    "                        continue\n",
    "                    print(report_path)\n",
    "                    print(report)\n",
    "                    break"
   ]
  },
  {
   "cell_type": "code",
   "execution_count": 22,
   "metadata": {},
   "outputs": [],
   "source": [
    "suite = BenchmarkSuite([\n",
    "    \"/home/aoli/repos/fray-benchmark/output/bug-1/kafka\",\n",
    "    ])\n",
    "for benchmark in suite.benchmarks:\n",
    "    if \"/pos/\" in benchmark.path:\n",
    "        df = benchmark.load_csv()\n",
    "        for index, row in df.iterrows():\n",
    "            if row[\"type\"] == \"TP(Time)\":\n",
    "                id = row[\"id\"].split(\"-\")[1]\n",
    "                report_path = os.path.join(benchmark.path, id, \"report/fray.log\")\n",
    "                with open(report_path, \"r\") as f:\n",
    "                    report = f.read()\n",
    "                    # if \"verifyExceptionsAndFailedTasks\" in report:\n",
    "                    #     continue\n",
    "                    # if \"verifyUpdatingTasks\" in report:\n",
    "                    #     continue\n",
    "                    # if \"verifyPausedTasks\" in report:\n",
    "                    #     continue\n",
    "                    # if \"DefaultStateUpdaterTest.verify\" in report:\n",
    "                    #     continue\n",
    "                    if \"TestUtils.waitForCondition\" in report:\n",
    "                        continue\n",
    "                    # if \"Condition not met within timeout \" in report:\n",
    "                    #     continue\n",
    "                    # if \"Assertion failed with an exception after\" in report:\n",
    "                    #     continue\n",
    "                    print(report_path)\n",
    "                    print(report)\n",
    "                    break\n"
   ]
  },
  {
   "cell_type": "code",
   "execution_count": 26,
   "metadata": {},
   "outputs": [],
   "source": [
    "suite = BenchmarkSuite([\n",
    "    \"/home/aoli/repos/fray-benchmark/output/bug-1/lucene\",\n",
    "    ])\n",
    "for benchmark in suite.benchmarks:\n",
    "    if \"/pos/\" in benchmark.path:\n",
    "        df = benchmark.load_csv()\n",
    "        for index, row in df.iterrows():\n",
    "            if row[\"type\"] == \"TP(Time)\":\n",
    "                id = row[\"id\"].split(\"-\")[1]\n",
    "                report_path = os.path.join(benchmark.path, id, \"report/fray.log\")\n",
    "                with open(report_path, \"r\") as f:\n",
    "                    report = f.read()\n",
    "                    if \"TestTimeLimitingBulkScorer.testTimeLimitingBulkScorer\" in report:\n",
    "                        continue\n",
    "                    if \"testTimeoutLargeNumberOfMerges\" in report:\n",
    "                        continue\n",
    "                    if \"testIntraMergeThreadPoolIsLimitedByMaxThreads\" in report:\n",
    "                        continue\n",
    "                    print(report_path)\n",
    "                    print(report)\n",
    "                    break\n"
   ]
  },
  {
   "cell_type": "code",
   "execution_count": null,
   "metadata": {},
   "outputs": [],
   "source": []
  }
 ],
 "metadata": {
  "kernelspec": {
   "display_name": "fray-benchmark-X7lD6j10-py3.12",
   "language": "python",
   "name": "python3"
  },
  "language_info": {
   "codemirror_mode": {
    "name": "ipython",
    "version": 3
   },
   "file_extension": ".py",
   "mimetype": "text/x-python",
   "name": "python",
   "nbconvert_exporter": "python",
   "pygments_lexer": "ipython3",
   "version": "3.12.3"
  }
 },
 "nbformat": 4,
 "nbformat_minor": 2
}
