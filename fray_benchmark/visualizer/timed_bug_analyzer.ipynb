{
 "cells": [
  {
   "cell_type": "code",
   "execution_count": 2,
   "metadata": {},
   "outputs": [
    {
     "data": {
      "image/png": "[encoded data removed]",
      "text/plain": [
       "<Figure size 700x100 with 1 Axes>"
      ]
     },
     "metadata": {},
     "output_type": "display_data"
    }
   ],
   "source": [
    "# %load_ext autoreload\n",
    "# %autoreload 2\n",
    "from fray_benchmark.visualizer.bench_result import *"
   ]
  },
  {
   "cell_type": "code",
   "execution_count": 4,
   "metadata": {},
   "outputs": [
    {
     "ename": "FileNotFoundError",
     "evalue": "[Errno 2] No such file or directory: '/home/aoli/repos/fray-benchmark/output/bug-1/kafka-new/random/iter-0/1000/report/fray.log'",
     "output_type": "error",
     "traceback": [
      "\u001b[0;31m---------------------------------------------------------------------------\u001b[0m",
      "\u001b[0;31mFileNotFoundError\u001b[0m                         Traceback (most recent call last)",
      "Cell \u001b[0;32mIn[4], line 6\u001b[0m\n\u001b[1;32m      4\u001b[0m \u001b[38;5;28;01mfor\u001b[39;00m benchmark \u001b[38;5;129;01min\u001b[39;00m suite\u001b[38;5;241m.\u001b[39mbenchmarks:\n\u001b[1;32m      5\u001b[0m     \u001b[38;5;28;01mif\u001b[39;00m \u001b[38;5;124m\"\u001b[39m\u001b[38;5;124m/random/\u001b[39m\u001b[38;5;124m\"\u001b[39m \u001b[38;5;129;01min\u001b[39;00m benchmark\u001b[38;5;241m.\u001b[39mpath:\n\u001b[0;32m----> 6\u001b[0m         df \u001b[38;5;241m=\u001b[39m \u001b[43mbenchmark\u001b[49m\u001b[38;5;241;43m.\u001b[39;49m\u001b[43mto_csv\u001b[49m\u001b[43m(\u001b[49m\u001b[43m)\u001b[49m\n\u001b[1;32m      7\u001b[0m         df \u001b[38;5;241m=\u001b[39m benchmark\u001b[38;5;241m.\u001b[39mload_csv()\n\u001b[1;32m      8\u001b[0m         \u001b[38;5;28;01mfor\u001b[39;00m index, row \u001b[38;5;129;01min\u001b[39;00m df\u001b[38;5;241m.\u001b[39miterrows():\n",
      "File \u001b[0;32m~/repos/fray-benchmark/fray_benchmark/visualizer/bench_result.py:134\u001b[0m, in \u001b[0;36mBenchResult.to_csv\u001b[0;34m(self)\u001b[0m\n\u001b[1;32m    131\u001b[0m     stdout \u001b[38;5;241m=\u001b[39m \u001b[38;5;28mopen\u001b[39m(os\u001b[38;5;241m.\u001b[39mpath\u001b[38;5;241m.\u001b[39mjoin(\n\u001b[1;32m    132\u001b[0m         run_folder, \u001b[38;5;124m\"\u001b[39m\u001b[38;5;124mstdout.txt\u001b[39m\u001b[38;5;124m\"\u001b[39m))\u001b[38;5;241m.\u001b[39mread()\n\u001b[1;32m    133\u001b[0m \u001b[38;5;28;01melse\u001b[39;00m:\n\u001b[0;32m--> 134\u001b[0m     stdout \u001b[38;5;241m=\u001b[39m \u001b[38;5;28;43mopen\u001b[39;49m\u001b[43m(\u001b[49m\u001b[43mos\u001b[49m\u001b[38;5;241;43m.\u001b[39;49m\u001b[43mpath\u001b[49m\u001b[38;5;241;43m.\u001b[39;49m\u001b[43mjoin\u001b[49m\u001b[43m(\u001b[49m\u001b[43mrun_folder\u001b[49m\u001b[43m,\u001b[49m\u001b[43m \u001b[49m\u001b[38;5;124;43m\"\u001b[39;49m\u001b[38;5;124;43mreport\u001b[39;49m\u001b[38;5;124;43m\"\u001b[39;49m\u001b[43m,\u001b[49m\u001b[43m \u001b[49m\u001b[38;5;124;43m\"\u001b[39;49m\u001b[38;5;124;43mfray.log\u001b[39;49m\u001b[38;5;124;43m\"\u001b[39;49m\u001b[43m)\u001b[49m\u001b[43m)\u001b[49m\u001b[38;5;241m.\u001b[39mread()\n\u001b[1;32m    135\u001b[0m total_iteration \u001b[38;5;241m=\u001b[39m \u001b[38;5;241m-\u001b[39m\u001b[38;5;241m1\u001b[39m\n\u001b[1;32m    136\u001b[0m first_bug_iter \u001b[38;5;241m=\u001b[39m \u001b[38;5;241m-\u001b[39m\u001b[38;5;241m1\u001b[39m\n",
      "\u001b[0;31mFileNotFoundError\u001b[0m: [Errno 2] No such file or directory: '/home/aoli/repos/fray-benchmark/output/bug-1/kafka-new/random/iter-0/1000/report/fray.log'"
     ]
    }
   ],
   "source": [
    "suite = BenchmarkSuite([\n",
    "    \"/home/aoli/repos/fray-benchmark/output/bug-1/kafka-new\",\n",
    "    ])\n",
    "for benchmark in suite.benchmarks:\n",
    "    if \"/random/\" in benchmark.path:\n",
    "        df = benchmark.to_csv()\n",
    "        df = benchmark.load_csv()\n",
    "        for index, row in df.iterrows():\n",
    "            if row[\"type\"] == \"TP(Time)\":\n",
    "                id = row[\"id\"].split(\"-\")[1]\n",
    "                report_path = os.path.join(benchmark.path, id, \"report/fray.log\")\n",
    "                with open(report_path, \"r\") as f:\n",
    "                    report = f.read()\n",
    "                    if \"but was:<Hang>\" in report:\n",
    "                        continue\n",
    "                    if \"assertUninterruptibleDrained\" in report:\n",
    "                        continue\n",
    "                    if \"testHeader: testDrainTimesOut\" in report:\n",
    "                        continue\n",
    "                    if \"waitForUninterruptibly(nonfair)(10ms)/UnsatisfiedBeforeAndWhileWaiting->Failure\" in report:\n",
    "                        continue\n",
    "                    if \"testDrainUninterruptibly_doesNotThrow\" in report:\n",
    "                        continue\n",
    "                    if \"testHeader: waitForUninterruptibly\" in report:\n",
    "                        continue\n",
    "                    if \"testHeader: testRegularFutureInterrupted\" in report:\n",
    "                        continue\n",
    "                    if \"testMakeUninterruptible_timeoutPreservedThroughInterruption\" in report:\n",
    "                        continue\n",
    "                    if \"ClosingFutureFinishToValueAndCloserTest\" in report:\n",
    "                        continue\n",
    "                    if \"stillOpen()\" in report:\n",
    "                        continue\n",
    "                    if \"testHeader: waitFor(fair)(+oo)/UnsatisfiedBeforeAndWhileWaiting->Hang\" in report:\n",
    "                        continue\n",
    "                    print(report_path)\n",
    "                    print(report)\n",
    "                    break"
   ]
  },
  {
   "cell_type": "code",
   "execution_count": 4,
   "metadata": {},
   "outputs": [
    {
     "name": "stdout",
     "output_type": "stream",
     "text": [
      "/home/aoli/repos/fray-benchmark/output/bug-1/kafka/pos/iter-0/100/report/fray.log\n",
      "2024-11-06 16:02:10 [INFO]: Fray started.\n",
      "2024-11-06 16:04:55 [ERROR]: Error found: java.lang.RuntimeException: testHeader: TestIdentifier [uniqueId = [engine:junit-jupiter]/[class:org.apache.kafka.streams.processor.internals.DefaultStateUpdaterTest]/[method:shouldNotResumeStandbyTaskInFailedTasks()], parentId = [engine:junit-jupiter]/[class:org.apache.kafka.streams.processor.internals.DefaultStateUpdaterTest], displayName = 'shouldNotResumeStandbyTaskInFailedTasks()', legacyReportingName = 'shouldNotResumeStandbyTaskInFailedTasks()', source = MethodSource [className = 'org.apache.kafka.streams.processor.internals.DefaultStateUpdaterTest', methodName = 'shouldNotResumeStandbyTaskInFailedTasks', methodParameterTypes = ''], tags = [], type = TEST]\n",
      "trace: org.opentest4j.AssertionFailedError: Condition not met within timeout 30000. Did not get all exceptions and failed tasks within the given timeout! ==> expected: <true> but was: <false>\n",
      "\tat org.junit.jupiter.api.AssertionFailureBuilder.build(AssertionFailureBuilder.java:151)\n",
      "\tat org.junit.jupiter.api.AssertionFailureBuilder.buildAndThrow(AssertionFailureBuilder.java:132)\n",
      "\tat org.junit.jupiter.api.AssertTrue.failNotTrue(AssertTrue.java:63)\n",
      "\tat org.junit.jupiter.api.AssertTrue.assertTrue(AssertTrue.java:36)\n",
      "\tat org.junit.jupiter.api.Assertions.assertTrue(Assertions.java:214)\n",
      "\tat org.apache.kafka.test.TestUtils.lambda$waitForCondition$3(TestUtils.java:397)\n",
      "\tat org.apache.kafka.test.TestUtils.retryOnExceptionWithTimeout(TestUtils.java:445)\n",
      "\tat org.apache.kafka.test.TestUtils.waitForCondition(TestUtils.java:394)\n",
      "\tat org.apache.kafka.test.TestUtils.waitForCondition(TestUtils.java:378)\n",
      "\tat org.apache.kafka.test.TestUtils.waitForCondition(TestUtils.java:368)\n",
      "\tat org.apache.kafka.streams.processor.internals.DefaultStateUpdaterTest.verifyExceptionsAndFailedTasks(DefaultStateUpdaterTest.java:1811)\n",
      "\tat org.apache.kafka.streams.processor.internals.DefaultStateUpdaterTest.shouldNotResumeTaskInFailedTasks(DefaultStateUpdaterTest.java:1232)\n",
      "\tat org.apache.kafka.streams.processor.internals.DefaultStateUpdaterTest.shouldNotResumeStandbyTaskInFailedTasks(DefaultStateUpdaterTest.java:1212)\n",
      "\tat java.base/java.lang.reflect.Method.invoke(Method.java:580)\n",
      "\tat java.base/java.util.ArrayList.forEach(ArrayList.java:1596)\n",
      "\tat java.base/java.util.ArrayList.forEach(ArrayList.java:1596)\n",
      "\n",
      "exception: org.opentest4j.AssertionFailedError: Condition not met within timeout 30000. Did not get all exceptions and failed tasks within the given timeout! ==> expected: <true> but was: <false>\n",
      "\n",
      "java.lang.RuntimeException: testHeader: TestIdentifier [uniqueId = [engine:junit-jupiter]/[class:org.apache.kafka.streams.processor.internals.DefaultStateUpdaterTest]/[method:shouldNotResumeStandbyTaskInFailedTasks()], parentId = [engine:junit-jupiter]/[class:org.apache.kafka.streams.processor.internals.DefaultStateUpdaterTest], displayName = 'shouldNotResumeStandbyTaskInFailedTasks()', legacyReportingName = 'shouldNotResumeStandbyTaskInFailedTasks()', source = MethodSource [className = 'org.apache.kafka.streams.processor.internals.DefaultStateUpdaterTest', methodName = 'shouldNotResumeStandbyTaskInFailedTasks', methodParameterTypes = ''], tags = [], type = TEST]\n",
      "trace: org.opentest4j.AssertionFailedError: Condition not met within timeout 30000. Did not get all exceptions and failed tasks within the given timeout! ==> expected: <true> but was: <false>\n",
      "\tat org.junit.jupiter.api.AssertionFailureBuilder.build(AssertionFailureBuilder.java:151)\n",
      "\tat org.junit.jupiter.api.AssertionFailureBuilder.buildAndThrow(AssertionFailureBuilder.java:132)\n",
      "\tat org.junit.jupiter.api.AssertTrue.failNotTrue(AssertTrue.java:63)\n",
      "\tat org.junit.jupiter.api.AssertTrue.assertTrue(AssertTrue.java:36)\n",
      "\tat org.junit.jupiter.api.Assertions.assertTrue(Assertions.java:214)\n",
      "\tat org.apache.kafka.test.TestUtils.lambda$waitForCondition$3(TestUtils.java:397)\n",
      "\tat org.apache.kafka.test.TestUtils.retryOnExceptionWithTimeout(TestUtils.java:445)\n",
      "\tat org.apache.kafka.test.TestUtils.waitForCondition(TestUtils.java:394)\n",
      "\tat org.apache.kafka.test.TestUtils.waitForCondition(TestUtils.java:378)\n",
      "\tat org.apache.kafka.test.TestUtils.waitForCondition(TestUtils.java:368)\n",
      "\tat org.apache.kafka.streams.processor.internals.DefaultStateUpdaterTest.verifyExceptionsAndFailedTasks(DefaultStateUpdaterTest.java:1811)\n",
      "\tat org.apache.kafka.streams.processor.internals.DefaultStateUpdaterTest.shouldNotResumeTaskInFailedTasks(DefaultStateUpdaterTest.java:1232)\n",
      "\tat org.apache.kafka.streams.processor.internals.DefaultStateUpdaterTest.shouldNotResumeStandbyTaskInFailedTasks(DefaultStateUpdaterTest.java:1212)\n",
      "\tat java.base/java.lang.reflect.Method.invoke(Method.java:580)\n",
      "\tat java.base/java.util.ArrayList.forEach(ArrayList.java:1596)\n",
      "\tat java.base/java.util.ArrayList.forEach(ArrayList.java:1596)\n",
      "\n",
      "exception: org.opentest4j.AssertionFailedError: Condition not met within timeout 30000. Did not get all exceptions and failed tasks within the given timeout! ==> expected: <true> but was: <false>\n",
      "\n",
      "\tat org.pastalab.fray.helpers.JUnitRunner.main(JUnitRunner.java:123)\n",
      "\tat java.base/jdk.internal.reflect.DirectMethodHandleAccessor.invoke(DirectMethodHandleAccessor.java:103)\n",
      "\tat java.base/java.lang.reflect.Method.invoke(Method.java:580)\n",
      "\tat org.pastalab.fray.core.command.MethodExecutor.execute(Executor.kt:53)\n",
      "\tat org.pastalab.fray.core.TestRunner.run(TestRunner.kt:81)\n",
      "\tat org.pastalab.fray.core.MainKt.main(Main.kt:9)\n",
      "\n",
      "2024-11-06 16:04:55 [ERROR]: Error found, the recording is saved to /home/aoli/repos/fray-benchmark/fray_benchmark/../output/bug-1/kafka/pos/iter-0/100/report/recording_0/\n",
      "\n"
     ]
    }
   ],
   "source": [
    "suite = BenchmarkSuite([\n",
    "    \"/home/aoli/repos/fray-benchmark/output/bug-1/kafka\",\n",
    "    ])\n",
    "for benchmark in suite.benchmarks:\n",
    "    if \"/pos/\" in benchmark.path:\n",
    "        df = benchmark.load_csv()\n",
    "        for index, row in df.iterrows():\n",
    "            if row[\"type\"] == \"TP(Time)\":\n",
    "                id = row[\"id\"].split(\"-\")[1]\n",
    "                report_path = os.path.join(benchmark.path, id, \"report/fray.log\")\n",
    "                with open(report_path, \"r\") as f:\n",
    "                    report = f.read()\n",
    "                    # if \"verifyExceptionsAndFailedTasks\" in report:\n",
    "                    #     continue\n",
    "                    # if \"verifyUpdatingTasks\" in report:\n",
    "                    #     continue\n",
    "                    # if \"verifyPausedTasks\" in report:\n",
    "                    #     continue\n",
    "                    # if \"DefaultStateUpdaterTest.verify\" in report:\n",
    "                    #     continue\n",
    "                    # if \"TestUtils.waitForCondition\" in report:\n",
    "                    #     continue\n",
    "                    # if \"Condition not met within timeout \" in report:\n",
    "                    #     continue\n",
    "                    # if \"Assertion failed with an exception after\" in report:\n",
    "                    #     continue\n",
    "                    print(report_path)\n",
    "                    print(report)\n",
    "                    break\n"
   ]
  },
  {
   "cell_type": "code",
   "execution_count": 11,
   "metadata": {},
   "outputs": [],
   "source": [
    "suite = BenchmarkSuite([\n",
    "    \"/home/aoli/repos/fray-benchmark/output/bug-1/lucene\",\n",
    "    ])\n",
    "for benchmark in suite.benchmarks:\n",
    "    if \"/pos/\" in benchmark.path:\n",
    "        df = benchmark.load_csv()\n",
    "        for index, row in df.iterrows():\n",
    "            if row[\"type\"] == \"TP(Time)\":\n",
    "                id = row[\"id\"].split(\"-\")[1]\n",
    "                report_path = os.path.join(benchmark.path, id, \"report/fray.log\")\n",
    "                with open(report_path, \"r\") as f:\n",
    "                    report = f.read()\n",
    "                    if \"TestTimeLimitingBulkScorer.testTimeLimitingBulkScorer\" in report:\n",
    "                        continue\n",
    "                    if \"testTimeoutLargeNumberOfMerges\" in report:\n",
    "                        continue\n",
    "                    if \"testIntraMergeThreadPoolIsLimitedByMaxThreads\" in report:\n",
    "                        continue\n",
    "                    print(report_path)\n",
    "                    print(report)\n",
    "                    break\n"
   ]
  },
  {
   "cell_type": "code",
   "execution_count": null,
   "metadata": {},
   "outputs": [
    {
     "name": "stdout",
     "output_type": "stream",
     "text": [
      "[Errno 2] No such file or directory: '/home/aoli/repos/fray-benchmark/output/bug-1/flink/pos/iter-0/1/report/fray.log'\n"
     ]
    },
    {
     "name": "stderr",
     "output_type": "stream",
     "text": [
      "/home/aoli/repos/fray-benchmark/fray_benchmark/visualizer/bench_result.py:415: SyntaxWarning: invalid escape sequence '\\#'\n",
      "  ax.set_ylabel('Cumulative \\# of Bugs')\n"
     ]
    }
   ],
   "source": [
    "suite = BenchmarkSuite([\n",
    "    \"/home/aoli/repos/fray-benchmark/output/bug-1/flink\",\n",
    "    ])\n",
    "for benchmark in suite.benchmarks:\n",
    "    try:\n",
    "        df = benchmark.to_csv()\n",
    "    except Exception as e:\n",
    "        print(e)\n"
   ]
  }
 ],
 "metadata": {
  "kernelspec": {
   "display_name": ".venv",
   "language": "python",
   "name": "python3"
  },
  "language_info": {
   "codemirror_mode": {
    "name": "ipython",
    "version": 3
   },
   "file_extension": ".py",
   "mimetype": "text/x-python",
   "name": "python",
   "nbconvert_exporter": "python",
   "pygments_lexer": "ipython3",
   "version": "3.12.3"
  }
 },
 "nbformat": 4,
 "nbformat_minor": 2
}
