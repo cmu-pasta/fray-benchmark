{
 "cells": [
  {
   "cell_type": "code",
   "execution_count": null,
   "metadata": {},
   "outputs": [],
   "source": [
    "%load_ext autoreload\n",
    "%autoreload 2\n",
    "\n",
    "from fray_benchmark.visualizer.bench_result import *"
   ]
  },
  {
   "cell_type": "markdown",
   "metadata": {},
   "source": [
    "# RQ 1 Bug-finding effectiveness"
   ]
  },
  {
   "cell_type": "code",
   "execution_count": null,
   "metadata": {},
   "outputs": [],
   "source": [
    "# Figure 5(a)\n",
    "\n",
    "suite = BenchmarkSuite([\"../../output/benchmark/sctbench\"])\n",
    "ax = suite.generate_bug_over_time_fig(\"time\")\n",
    "fig = ax.get_figure()"
   ]
  },
  {
   "cell_type": "code",
   "execution_count": null,
   "metadata": {},
   "outputs": [],
   "source": [
    "# Figure 5(b)\n",
    "\n",
    "suite = BenchmarkSuite([\"../../output/benchmark/jacontebe\"])\n",
    "ax = suite.generate_bug_over_time_fig(\"time\")\n",
    "fig = ax.get_figure()"
   ]
  },
  {
   "cell_type": "markdown",
   "metadata": {},
   "source": [
    "# RQ 2: Run-time Performance"
   ]
  },
  {
   "cell_type": "code",
   "execution_count": null,
   "metadata": {},
   "outputs": [],
   "source": [
    "# Figure 6\n",
    "\n",
    "suite = BenchmarkSuite([\n",
    "    \"../../output/benchmark/jacontebe\",\n",
    "    \"../../output/benchmark/sctbench\"\n",
    "    ])\n",
    "ax = suite.generate_search_space_table()\n",
    "fig = ax.get_figure()"
   ]
  },
  {
   "cell_type": "code",
   "execution_count": null,
   "metadata": {},
   "outputs": [],
   "source": [
    "# Figure 7\n",
    "\n",
    "ax = suite.generate_exec_speed_table()\n",
    "fig = ax.get_figure()"
   ]
  },
  {
   "cell_type": "markdown",
   "metadata": {},
   "source": [
    "# RQ 3: Applicability to Real-World Software\n"
   ]
  },
  {
   "cell_type": "code",
   "execution_count": null,
   "metadata": {},
   "outputs": [],
   "source": [
    "# Lucene\n",
    "\n",
    "import pandas as pd\n",
    "\n",
    "suite = BenchmarkSuite([\n",
    "    \"../../output/realworld/lucene\",\n",
    "    ])\n",
    "suite.generate_bug_table()"
   ]
  },
  {
   "cell_type": "code",
   "execution_count": null,
   "metadata": {},
   "outputs": [],
   "source": [
    "# Guava\n",
    "\n",
    "import pandas as pd\n",
    "\n",
    "suite = BenchmarkSuite([\n",
    "    \"../../output/realworld/guava\",\n",
    "    ])\n",
    "suite.generate_bug_table()"
   ]
  },
  {
   "cell_type": "code",
   "execution_count": null,
   "metadata": {},
   "outputs": [],
   "source": [
    "# Kafka\n",
    "\n",
    "import pandas as pd\n",
    "\n",
    "suite = BenchmarkSuite([\n",
    "    \"../../output/realworld/kafka\",\n",
    "    ])\n",
    "suite.generate_bug_table()"
   ]
  },
  {
   "cell_type": "markdown",
   "metadata": {},
   "source": [
    "# RQ 4:  Linearizability of Data Structures"
   ]
  },
  {
   "cell_type": "code",
   "execution_count": null,
   "metadata": {},
   "outputs": [],
   "source": [
    "import pandas as pd\n",
    "\n",
    "suite = BenchmarkSuite([\n",
    "    \"../../output/realworld/lincheck\",\n",
    "    ])\n",
    "suite.generate_bug_table()"
   ]
  }
 ],
 "metadata": {
  "kernelspec": {
   "display_name": ".venv",
   "language": "python",
   "name": "python3"
  },
  "language_info": {
   "codemirror_mode": {
    "name": "ipython",
    "version": 3
   },
   "file_extension": ".py",
   "mimetype": "text/x-python",
   "name": "python",
   "nbconvert_exporter": "python",
   "pygments_lexer": "ipython3",
   "version": "3.11.11"
  }
 },
 "nbformat": 4,
 "nbformat_minor": 4
}
